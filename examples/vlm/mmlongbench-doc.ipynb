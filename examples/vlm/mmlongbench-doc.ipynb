{
 "cells": [
  {
   "cell_type": "code",
   "execution_count": 1,
   "metadata": {},
   "outputs": [],
   "source": [
    "%load_ext autoreload\n",
    "%autoreload 2"
   ]
  },
  {
   "cell_type": "code",
   "execution_count": 2,
   "metadata": {},
   "outputs": [
    {
     "name": "stderr",
     "output_type": "stream",
     "text": [
      "/Users/isaac/Projects/dspy/.venv/lib/python3.12/site-packages/tqdm/auto.py:21: TqdmWarning: IProgress not found. Please update jupyter and ipywidgets. See https://ipywidgets.readthedocs.io/en/stable/user_install.html\n",
      "  from .autonotebook import tqdm as notebook_tqdm\n"
     ]
    }
   ],
   "source": [
    "import dspy\n",
    "from dspy.datasets import DataLoader\n",
    "from dspy.evaluate.metrics import answer_exact_match\n",
    "from typing import List\n",
    "from dspy.evaluate import Evaluate\n",
    "\n",
    "import dotenv\n",
    "import litellm\n",
    "\n",
    "litellm.suppress_debug_info = True\n",
    "\n",
    "dotenv.load_dotenv()\n",
    "\n",
    "def debug_exact_match(example, pred, trace=None, frac=1.0):\n",
    "    print(example.inputs())\n",
    "    print(example.answer)\n",
    "    print(pred)\n",
    "    # print(trace)\n",
    "    # print(frac)\n",
    "    return answer_exact_match(example, pred, trace, frac)"
   ]
  },
  {
   "cell_type": "code",
   "execution_count": 3,
   "metadata": {},
   "outputs": [],
   "source": [
    "# vllm serve Qwen/Qwen2-VL-7B-Instruct --trust-remote-code --limit-mm-per-prompt image=16 --seed 42 --pipeline-parallel-size 2\n",
    "qwen_lm = dspy.LM(model=\"openai/Qwen/Qwen2-VL-7B-Instruct\", api_base=\"http://localhost:8000/v1\", api_key=\"sk-fake-key\", max_tokens=5000)\n",
    "haiku_lm = dspy.LM(model=\"anthropic/claude-3-haiku-20240307\", max_tokens=4096)\n",
    "# vllm serve meta-llama/Llama-3.2-11B-Vision-Instruct --trust-remote-code --limit-mm-per-prompt image=16 --seed 42 --enforce-eager --max-num-seqs 48\n",
    "llama_lm = dspy.LM(model=\"openai/meta-llama/Llama-3.2-11B-Vision-Instruct\", api_base=\"http://localhost:8000/v1\", api_key=\"sk-fake-key\", max_tokens=5000)\n",
    "internlm_lm = dspy.LM(model=\"openai/OpenGVLab/InternVL2-8B\", api_base=\"http://localhost:8000/v1\", api_key=\"sk-fake-key\", max_tokens=5000)\n",
    "gpt_lm = dspy.LM(model=\"openai/gpt-4o-mini\", max_tokens=5000)\n",
    "all_lms = [qwen_lm, haiku_lm, llama_lm, gpt_lm]\n",
    "\n",
    "dspy.settings.configure(lm=gpt_lm)"
   ]
  },
  {
   "cell_type": "code",
   "execution_count": 13,
   "metadata": {},
   "outputs": [],
   "source": [
    "import os\n",
    "from huggingface_hub import snapshot_download\n",
    "cwd = os.getcwd()\n",
    "os.environ[\"HF_HOME\"] = f\"{cwd}/.cache\""
   ]
  },
  {
   "cell_type": "code",
   "execution_count": 18,
   "metadata": {},
   "outputs": [
    {
     "name": "stdout",
     "output_type": "stream",
     "text": [
      "/Users/isaac/.cache/huggingface/hub/datasets--yubo2333--MMLongBench-Doc/snapshots/38bceac8784469e70ad783dbf26c0b6ff08e0a9a\n"
     ]
    }
   ],
   "source": [
    "\n",
    "# This download is flaky\n",
    "documents_path = snapshot_download(\"yubo2333/MMLongBench-Doc\", local_dir=f\"{cwd}/docs\", allow_patterns=\"documents/*\", repo_type=\"dataset\")\n",
    "print(documents_path)\n",
    "\n"
   ]
  },
  {
   "cell_type": "code",
   "execution_count": 19,
   "metadata": {},
   "outputs": [
    {
     "name": "stdout",
     "output_type": "stream",
     "text": [
      "Example({'doc_id': 'PH_2016.06.08_Economy-Final.pdf', 'doc_type': 'Research report / Introduction', 'question': 'According to the report, how do 5% of the Latinos see economic upward mobility for their children?', 'answer': 'Less well-off', 'evidence_pages': '[5]', 'evidence_sources': \"['Chart']\", 'answer_format': 'Str'}) (input_keys=set())\n"
     ]
    }
   ],
   "source": [
    "dataset = DataLoader().from_huggingface(\"yubo2333/MMLongBench-Doc\")\n",
    "\n",
    "print(dataset[\"train\"][0])"
   ]
  },
  {
   "cell_type": "code",
   "execution_count": null,
   "metadata": {},
   "outputs": [],
   "source": [
    "from byaldi import RAGMultiModalModel\n",
    "# Optionally, you can specify an `index_root`, which is where it'll save the index. It defaults to \".byaldi/\".\n",
    "RAG = RAGMultiModalModel.from_pretrained(\"vidore/colpali-v1.2\")\n",
    "index_name = \"mmlongbench-doc\"\n",
    "RAG.index(\n",
    "    input_path=f\"{cwd}/docs/documents\", # The path to your documents\n",
    "    index_name=index_name, # The name you want to give to your index. It'll be saved at `index_root/index_name/`.\n",
    "    store_collection_with_index=False, # Whether the index should store the base64 encoded documents.\n",
    "    # doc_ids=[0, 1, 2], # Optionally, you can specify a list of document IDs. They must be integers and match the number of documents you're passing. Otherwise, doc_ids will be automatically created.\n",
    "    # metadata=[{\"author\": \"John Doe\", \"date\": \"2021-01-01\"}], # Optionally, you can specify a list of metadata for each document. They must be a list of dictionaries, with the same length as the number of documents you're passing.\n",
    "    overwrite=True # Whether to overwrite an index if it already exists. If False, it'll return None and do nothing if `index_root/index_name` exists.\n",
    ")"
   ]
  }
 ],
 "metadata": {
  "kernelspec": {
   "display_name": ".venv",
   "language": "python",
   "name": "python3"
  },
  "language_info": {
   "codemirror_mode": {
    "name": "ipython",
    "version": 3
   },
   "file_extension": ".py",
   "mimetype": "text/x-python",
   "name": "python",
   "nbconvert_exporter": "python",
   "pygments_lexer": "ipython3",
   "version": "3.12.4"
  }
 },
 "nbformat": 4,
 "nbformat_minor": 2
}
